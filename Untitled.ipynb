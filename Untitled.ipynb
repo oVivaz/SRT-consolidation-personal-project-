{
 "cells": [
  {
   "cell_type": "code",
   "execution_count": 2,
   "id": "57ece934-5dfd-4576-b2d8-64d82e3402b5",
   "metadata": {},
   "outputs": [
    {
     "name": "stdout",
     "output_type": "stream",
     "text": [
      "Arquivo compilado gerado em: E:\\Desktop\\Postgrad Marketing Farmacêutico\\SRTs aula 2\\compilado_transcricoes.txt\n"
     ]
    }
   ],
   "source": [
    "import os\n",
    "import re\n",
    "\n",
    "# Caminho da pasta onde estão os SRTs\n",
    "pasta = r\"E:\\Desktop\\Postgrad Marketing Farmacêutico\\SRTs aula 2\"\n",
    "\n",
    "# Lista todos os arquivos .srt da pasta\n",
    "arquivos = [f for f in os.listdir(pasta) if f.endswith('.srt')]\n",
    "\n",
    "# Caminho completo para o arquivo final compilado\n",
    "arquivo_saida = os.path.join(pasta, \"compilado_transcricoes.txt\")\n",
    "\n",
    "with open(arquivo_saida, 'w', encoding='utf-8') as f_saida:\n",
    "    for arquivo in arquivos:\n",
    "        caminho = os.path.join(pasta, arquivo)\n",
    "\n",
    "        # Escreve um \"cabeçalho\" para cada transcrição\n",
    "        f_saida.write(f\"=== Transcrição de {arquivo} ===\\n\\n\")\n",
    "\n",
    "        with open(caminho, 'r', encoding='utf-8') as f:\n",
    "            linhas = f.readlines()\n",
    "\n",
    "        for linha in linhas:\n",
    "            if re.match(r'^\\d+$', linha.strip()):  # Remove números de sequência\n",
    "                continue\n",
    "            if re.match(r'\\d{2}:\\d{2}:\\d{2},\\d{3} --> \\d{2}:\\d{2}:\\d{2},\\d{3}', linha):  # Remove timestamps\n",
    "                continue\n",
    "            if linha.strip():  # Pega só as linhas com texto falado\n",
    "                f_saida.write(linha)\n",
    "\n",
    "        f_saida.write(\"\\n\\n\")  # Separador entre arquivos\n",
    "\n",
    "print(f\"Arquivo compilado gerado em: {arquivo_saida}\")\n"
   ]
  },
  {
   "cell_type": "code",
   "execution_count": 5,
   "id": "dcac48cd-a832-4b6b-8689-2cfc1a898416",
   "metadata": {},
   "outputs": [
    {
     "name": "stdout",
     "output_type": "stream",
     "text": [
      "Arquivo compilado sem timestamps salvo em: E:\\Desktop\\Postgrad Marketing Farmacêutico\\SRTs aula 4\\compilado_transcricoes_sem_timestamps.txt\n"
     ]
    }
   ],
   "source": [
    "import os\n",
    "import re\n",
    "\n",
    "# Defina o caminho da pasta onde estão os SRTs\n",
    "pasta = r\"E:\\Desktop\\Postgrad Marketing Farmacêutico\\SRTs aula 4\"\n",
    "\n",
    "# Lista todos os arquivos SRT da pasta\n",
    "arquivos = [f for f in os.listdir(pasta) if f.endswith('.srt')]\n",
    "\n",
    "# Nome do arquivo final compilado\n",
    "arquivo_saida = os.path.join(pasta, \"compilado_transcricoes_sem_timestamps.txt\")\n",
    "\n",
    "# Expressão regular para detectar timestamps\n",
    "regex_timestamp = r'\\d{2}:\\d{2}:\\d{2}[.,]\\d{3} --> \\d{2}:\\d{2}:\\d{2}[.,]\\d{3}'\n",
    "\n",
    "with open(arquivo_saida, 'w', encoding='utf-8') as f_saida:\n",
    "    for arquivo in arquivos:\n",
    "        caminho = os.path.join(pasta, arquivo)\n",
    "\n",
    "        # Adiciona um cabeçalho opcional para cada transcrição (pode tirar se quiser)\n",
    "        f_saida.write(f\"=== Transcrição de {arquivo} ===\\n\\n\")\n",
    "\n",
    "        with open(caminho, 'r', encoding='utf-8') as f:\n",
    "            conteudo = f.readlines()\n",
    "\n",
    "        for linha in conteudo:\n",
    "            # Remove números de sequência (linhas só com 1, 2, 3...)\n",
    "            if linha.strip().isdigit():\n",
    "                continue\n",
    "\n",
    "            # Remove timestamps no formato:\n",
    "            # 00:00:01,500 --> 00:00:04,000\n",
    "            if re.match(regex_timestamp, linha.strip()):\n",
    "                continue\n",
    "\n",
    "            # Escreve apenas texto falado\n",
    "            if linha.strip():\n",
    "                f_saida.write(linha)\n",
    "\n",
    "        f_saida.write(\"\\n\\n\")  # Separador entre arquivos\n",
    "\n",
    "print(f\"Arquivo compilado sem timestamps salvo em: {arquivo_saida}\")\n"
   ]
  },
  {
   "cell_type": "code",
   "execution_count": null,
   "id": "ae2e26e4-7335-4d57-8d01-7269e0e5f2c0",
   "metadata": {},
   "outputs": [],
   "source": []
  }
 ],
 "metadata": {
  "kernelspec": {
   "display_name": "Python 3 (ipykernel)",
   "language": "python",
   "name": "python3"
  },
  "language_info": {
   "codemirror_mode": {
    "name": "ipython",
    "version": 3
   },
   "file_extension": ".py",
   "mimetype": "text/x-python",
   "name": "python",
   "nbconvert_exporter": "python",
   "pygments_lexer": "ipython3",
   "version": "3.10.0"
  }
 },
 "nbformat": 4,
 "nbformat_minor": 5
}
